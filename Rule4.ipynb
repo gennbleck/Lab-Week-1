{
 "cells": [
  {
   "cell_type": "code",
   "execution_count": 24,
   "metadata": {},
   "outputs": [],
   "source": [
    "import numpy as np\n",
    "def rule4(m,n,p,A,dA,B,dB,C,dC,Q):\n",
    "    dQ = Q*np.sqrt((m*dA/A)**2+(n*dB/B)**2+(p*dC/C)**2)\n",
    "    print(dA/A,dB/B,dC/C)\n",
    "    return dQ\n",
    "\n",
    "def rule3(dA,dB):\n",
    "    dQ = np.sqrt(dA**2 + dB**2)\n",
    "    return dQ\n"
   ]
  },
  {
   "cell_type": "code",
   "execution_count": 25,
   "metadata": {},
   "outputs": [
    {
     "name": "stdout",
     "output_type": "stream",
     "text": [
      "alpha =  1.8994211287988426e-05 1/degree C\n"
     ]
    }
   ],
   "source": [
    "L = 1.05\n",
    "dL = .001\n",
    "deltaL = .00125\n",
    "ddeltaL = .00001\n",
    "Ti = 23.4\n",
    "Tf = 92.5\n",
    "dTi = 0.3\n",
    "dTf = 0.1\n",
    "\n",
    "alpha = (deltaL/(Tf-Ti)*L)\n",
    "print(\"alpha = \",alpha,\"1/degree C\")\n",
    "\n",
    "\n"
   ]
  },
  {
   "cell_type": "code",
   "execution_count": 26,
   "metadata": {},
   "outputs": [
    {
     "name": "stdout",
     "output_type": "stream",
     "text": [
      "ddeltaT =  0.31622776601683794 degree C\n"
     ]
    }
   ],
   "source": [
    "ddeltaT = rule3(dTi,dTf)\n",
    "print(\"ddeltaT = \",ddeltaT, \"degree C\" )\n",
    "\n",
    "\n"
   ]
  },
  {
   "cell_type": "code",
   "execution_count": 28,
   "metadata": {},
   "outputs": [
    {
     "name": "stdout",
     "output_type": "stream",
     "text": [
      "0.008 0.0011904761904761904 0.004576378668839913\n",
      "dAlpha =  1.765138455340577e-07 1/degree C\n"
     ]
    }
   ],
   "source": [
    "dAlpha = rule4(1,-1,-1,deltaL,ddeltaL,L,deltaL,(Tf-Ti),ddeltaT,alpha)\n",
    "print(\"dAlpha = \",dAlpha,\"1/degree C\")"
   ]
  },
  {
   "cell_type": "code",
   "execution_count": null,
   "metadata": {},
   "outputs": [],
   "source": []
  }
 ],
 "metadata": {
  "kernelspec": {
   "display_name": "Python 3",
   "language": "python",
   "name": "python3"
  },
  "language_info": {
   "codemirror_mode": {
    "name": "ipython",
    "version": 3
   },
   "file_extension": ".py",
   "mimetype": "text/x-python",
   "name": "python",
   "nbconvert_exporter": "python",
   "pygments_lexer": "ipython3",
   "version": "3.7.1"
  }
 },
 "nbformat": 4,
 "nbformat_minor": 2
}
